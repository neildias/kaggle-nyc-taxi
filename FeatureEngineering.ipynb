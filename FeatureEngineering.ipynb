{
 "cells": [
  {
   "cell_type": "code",
   "execution_count": 1,
   "id": "skilled-stream",
   "metadata": {},
   "outputs": [],
   "source": [
    "import numpy as np\n",
    "import pandas as pd\n",
    "from numpy import sin, cos, radians, arcsin\n",
    "from sklearn.model_selection import train_test_split, cross_val_score,GridSearchCV\n",
    "from sklearn.linear_model import LinearRegression\n",
    "from sklearn.metrics import mean_absolute_error, mean_squared_error"
   ]
  },
  {
   "cell_type": "markdown",
   "id": "understood-cattle",
   "metadata": {},
   "source": [
    "## Loading 1 million samples of the data for analysis"
   ]
  },
  {
   "cell_type": "code",
   "execution_count": 2,
   "id": "greater-buffer",
   "metadata": {},
   "outputs": [],
   "source": [
    "data = pd.read_csv(\"data/train.csv\",\n",
    "                   date_parser=True,\n",
    "                  nrows=1000000)"
   ]
  },
  {
   "cell_type": "markdown",
   "id": "employed-filename",
   "metadata": {},
   "source": [
    "## Basic Data Summary"
   ]
  },
  {
   "cell_type": "code",
   "execution_count": 3,
   "id": "colored-research",
   "metadata": {},
   "outputs": [
    {
     "data": {
      "text/html": [
       "<div>\n",
       "<style scoped>\n",
       "    .dataframe tbody tr th:only-of-type {\n",
       "        vertical-align: middle;\n",
       "    }\n",
       "\n",
       "    .dataframe tbody tr th {\n",
       "        vertical-align: top;\n",
       "    }\n",
       "\n",
       "    .dataframe thead th {\n",
       "        text-align: right;\n",
       "    }\n",
       "</style>\n",
       "<table border=\"1\" class=\"dataframe\">\n",
       "  <thead>\n",
       "    <tr style=\"text-align: right;\">\n",
       "      <th></th>\n",
       "      <th>key</th>\n",
       "      <th>fare_amount</th>\n",
       "      <th>pickup_datetime</th>\n",
       "      <th>pickup_longitude</th>\n",
       "      <th>pickup_latitude</th>\n",
       "      <th>dropoff_longitude</th>\n",
       "      <th>dropoff_latitude</th>\n",
       "      <th>passenger_count</th>\n",
       "    </tr>\n",
       "  </thead>\n",
       "  <tbody>\n",
       "    <tr>\n",
       "      <th>0</th>\n",
       "      <td>2009-06-15 17:26:21.0000001</td>\n",
       "      <td>4.5</td>\n",
       "      <td>2009-06-15 17:26:21 UTC</td>\n",
       "      <td>-73.844311</td>\n",
       "      <td>40.721319</td>\n",
       "      <td>-73.841610</td>\n",
       "      <td>40.712278</td>\n",
       "      <td>1</td>\n",
       "    </tr>\n",
       "    <tr>\n",
       "      <th>1</th>\n",
       "      <td>2010-01-05 16:52:16.0000002</td>\n",
       "      <td>16.9</td>\n",
       "      <td>2010-01-05 16:52:16 UTC</td>\n",
       "      <td>-74.016048</td>\n",
       "      <td>40.711303</td>\n",
       "      <td>-73.979268</td>\n",
       "      <td>40.782004</td>\n",
       "      <td>1</td>\n",
       "    </tr>\n",
       "    <tr>\n",
       "      <th>2</th>\n",
       "      <td>2011-08-18 00:35:00.00000049</td>\n",
       "      <td>5.7</td>\n",
       "      <td>2011-08-18 00:35:00 UTC</td>\n",
       "      <td>-73.982738</td>\n",
       "      <td>40.761270</td>\n",
       "      <td>-73.991242</td>\n",
       "      <td>40.750562</td>\n",
       "      <td>2</td>\n",
       "    </tr>\n",
       "    <tr>\n",
       "      <th>3</th>\n",
       "      <td>2012-04-21 04:30:42.0000001</td>\n",
       "      <td>7.7</td>\n",
       "      <td>2012-04-21 04:30:42 UTC</td>\n",
       "      <td>-73.987130</td>\n",
       "      <td>40.733143</td>\n",
       "      <td>-73.991567</td>\n",
       "      <td>40.758092</td>\n",
       "      <td>1</td>\n",
       "    </tr>\n",
       "    <tr>\n",
       "      <th>4</th>\n",
       "      <td>2010-03-09 07:51:00.000000135</td>\n",
       "      <td>5.3</td>\n",
       "      <td>2010-03-09 07:51:00 UTC</td>\n",
       "      <td>-73.968095</td>\n",
       "      <td>40.768008</td>\n",
       "      <td>-73.956655</td>\n",
       "      <td>40.783762</td>\n",
       "      <td>1</td>\n",
       "    </tr>\n",
       "  </tbody>\n",
       "</table>\n",
       "</div>"
      ],
      "text/plain": [
       "                             key  fare_amount          pickup_datetime  \\\n",
       "0    2009-06-15 17:26:21.0000001          4.5  2009-06-15 17:26:21 UTC   \n",
       "1    2010-01-05 16:52:16.0000002         16.9  2010-01-05 16:52:16 UTC   \n",
       "2   2011-08-18 00:35:00.00000049          5.7  2011-08-18 00:35:00 UTC   \n",
       "3    2012-04-21 04:30:42.0000001          7.7  2012-04-21 04:30:42 UTC   \n",
       "4  2010-03-09 07:51:00.000000135          5.3  2010-03-09 07:51:00 UTC   \n",
       "\n",
       "   pickup_longitude  pickup_latitude  dropoff_longitude  dropoff_latitude  \\\n",
       "0        -73.844311        40.721319         -73.841610         40.712278   \n",
       "1        -74.016048        40.711303         -73.979268         40.782004   \n",
       "2        -73.982738        40.761270         -73.991242         40.750562   \n",
       "3        -73.987130        40.733143         -73.991567         40.758092   \n",
       "4        -73.968095        40.768008         -73.956655         40.783762   \n",
       "\n",
       "   passenger_count  \n",
       "0                1  \n",
       "1                1  \n",
       "2                2  \n",
       "3                1  \n",
       "4                1  "
      ]
     },
     "execution_count": 3,
     "metadata": {},
     "output_type": "execute_result"
    }
   ],
   "source": [
    "data.head()"
   ]
  },
  {
   "cell_type": "code",
   "execution_count": 4,
   "id": "cleared-solution",
   "metadata": {},
   "outputs": [
    {
     "data": {
      "text/plain": [
       "count    1000000.000000\n",
       "mean          11.348079\n",
       "std            9.822090\n",
       "min          -44.900000\n",
       "25%            6.000000\n",
       "50%            8.500000\n",
       "75%           12.500000\n",
       "max          500.000000\n",
       "Name: fare_amount, dtype: float64"
      ]
     },
     "execution_count": 4,
     "metadata": {},
     "output_type": "execute_result"
    }
   ],
   "source": [
    "data.fare_amount.describe()"
   ]
  },
  {
   "cell_type": "markdown",
   "id": "french-charlotte",
   "metadata": {},
   "source": [
    "## date-time conversion and feature creation"
   ]
  },
  {
   "cell_type": "code",
   "execution_count": 5,
   "id": "heard-wrong",
   "metadata": {},
   "outputs": [
    {
     "data": {
      "text/plain": [
       "key                   object\n",
       "fare_amount          float64\n",
       "pickup_datetime       object\n",
       "pickup_longitude     float64\n",
       "pickup_latitude      float64\n",
       "dropoff_longitude    float64\n",
       "dropoff_latitude     float64\n",
       "passenger_count        int64\n",
       "dtype: object"
      ]
     },
     "execution_count": 5,
     "metadata": {},
     "output_type": "execute_result"
    }
   ],
   "source": [
    "data.dtypes  # date parser arg didnt seem to work"
   ]
  },
  {
   "cell_type": "code",
   "execution_count": 6,
   "id": "intellectual-fraud",
   "metadata": {},
   "outputs": [],
   "source": [
    "data_date_time = data['pickup_datetime'].str[:19]\n",
    "day_light_saving = - pd.Timedelta(hours=4)\n",
    "data['EDT'] = pd.to_datetime(data_date_time) - day_light_saving"
   ]
  },
  {
   "cell_type": "code",
   "execution_count": 7,
   "id": "dying-airplane",
   "metadata": {},
   "outputs": [],
   "source": [
    "data['Hour']     = data['EDT'].dt.hour\n",
    "data['Weekday']  = data['EDT'].dt.day_name()\n",
    "data['AMorPM']   = np.where(data['Hour']<12,'AM','PM')"
   ]
  },
  {
   "cell_type": "code",
   "execution_count": 8,
   "id": "connected-prison",
   "metadata": {},
   "outputs": [
    {
     "data": {
      "text/plain": [
       "(Timestamp('2009-01-01 04:00:46'), Timestamp('2015-07-01 03:53:49'))"
      ]
     },
     "execution_count": 8,
     "metadata": {},
     "output_type": "execute_result"
    }
   ],
   "source": [
    "data.EDT.min(), data.EDT.max()"
   ]
  },
  {
   "cell_type": "code",
   "execution_count": 9,
   "id": "junior-stand",
   "metadata": {},
   "outputs": [
    {
     "data": {
      "text/html": [
       "<div>\n",
       "<style scoped>\n",
       "    .dataframe tbody tr th:only-of-type {\n",
       "        vertical-align: middle;\n",
       "    }\n",
       "\n",
       "    .dataframe tbody tr th {\n",
       "        vertical-align: top;\n",
       "    }\n",
       "\n",
       "    .dataframe thead th {\n",
       "        text-align: right;\n",
       "    }\n",
       "</style>\n",
       "<table border=\"1\" class=\"dataframe\">\n",
       "  <thead>\n",
       "    <tr style=\"text-align: right;\">\n",
       "      <th></th>\n",
       "      <th>MasterDataTime</th>\n",
       "      <th>fare_amount</th>\n",
       "      <th>pickup_datetime</th>\n",
       "      <th>pickup_longitude</th>\n",
       "      <th>pickup_latitude</th>\n",
       "      <th>dropoff_longitude</th>\n",
       "      <th>dropoff_latitude</th>\n",
       "      <th>passenger_count</th>\n",
       "      <th>EDT</th>\n",
       "      <th>Hour</th>\n",
       "      <th>Weekday</th>\n",
       "      <th>AMorPM</th>\n",
       "    </tr>\n",
       "  </thead>\n",
       "  <tbody>\n",
       "    <tr>\n",
       "      <th>0</th>\n",
       "      <td>2009-06-15 17:26:21.0000001</td>\n",
       "      <td>4.5</td>\n",
       "      <td>2009-06-15 17:26:21 UTC</td>\n",
       "      <td>-73.844311</td>\n",
       "      <td>40.721319</td>\n",
       "      <td>-73.841610</td>\n",
       "      <td>40.712278</td>\n",
       "      <td>1</td>\n",
       "      <td>2009-06-15 21:26:21</td>\n",
       "      <td>21</td>\n",
       "      <td>Monday</td>\n",
       "      <td>PM</td>\n",
       "    </tr>\n",
       "    <tr>\n",
       "      <th>1</th>\n",
       "      <td>2010-01-05 16:52:16.0000002</td>\n",
       "      <td>16.9</td>\n",
       "      <td>2010-01-05 16:52:16 UTC</td>\n",
       "      <td>-74.016048</td>\n",
       "      <td>40.711303</td>\n",
       "      <td>-73.979268</td>\n",
       "      <td>40.782004</td>\n",
       "      <td>1</td>\n",
       "      <td>2010-01-05 20:52:16</td>\n",
       "      <td>20</td>\n",
       "      <td>Tuesday</td>\n",
       "      <td>PM</td>\n",
       "    </tr>\n",
       "    <tr>\n",
       "      <th>2</th>\n",
       "      <td>2011-08-18 00:35:00.00000049</td>\n",
       "      <td>5.7</td>\n",
       "      <td>2011-08-18 00:35:00 UTC</td>\n",
       "      <td>-73.982738</td>\n",
       "      <td>40.761270</td>\n",
       "      <td>-73.991242</td>\n",
       "      <td>40.750562</td>\n",
       "      <td>2</td>\n",
       "      <td>2011-08-18 04:35:00</td>\n",
       "      <td>4</td>\n",
       "      <td>Thursday</td>\n",
       "      <td>AM</td>\n",
       "    </tr>\n",
       "    <tr>\n",
       "      <th>3</th>\n",
       "      <td>2012-04-21 04:30:42.0000001</td>\n",
       "      <td>7.7</td>\n",
       "      <td>2012-04-21 04:30:42 UTC</td>\n",
       "      <td>-73.987130</td>\n",
       "      <td>40.733143</td>\n",
       "      <td>-73.991567</td>\n",
       "      <td>40.758092</td>\n",
       "      <td>1</td>\n",
       "      <td>2012-04-21 08:30:42</td>\n",
       "      <td>8</td>\n",
       "      <td>Saturday</td>\n",
       "      <td>AM</td>\n",
       "    </tr>\n",
       "    <tr>\n",
       "      <th>4</th>\n",
       "      <td>2010-03-09 07:51:00.000000135</td>\n",
       "      <td>5.3</td>\n",
       "      <td>2010-03-09 07:51:00 UTC</td>\n",
       "      <td>-73.968095</td>\n",
       "      <td>40.768008</td>\n",
       "      <td>-73.956655</td>\n",
       "      <td>40.783762</td>\n",
       "      <td>1</td>\n",
       "      <td>2010-03-09 11:51:00</td>\n",
       "      <td>11</td>\n",
       "      <td>Tuesday</td>\n",
       "      <td>AM</td>\n",
       "    </tr>\n",
       "  </tbody>\n",
       "</table>\n",
       "</div>"
      ],
      "text/plain": [
       "                  MasterDataTime  fare_amount          pickup_datetime  \\\n",
       "0    2009-06-15 17:26:21.0000001          4.5  2009-06-15 17:26:21 UTC   \n",
       "1    2010-01-05 16:52:16.0000002         16.9  2010-01-05 16:52:16 UTC   \n",
       "2   2011-08-18 00:35:00.00000049          5.7  2011-08-18 00:35:00 UTC   \n",
       "3    2012-04-21 04:30:42.0000001          7.7  2012-04-21 04:30:42 UTC   \n",
       "4  2010-03-09 07:51:00.000000135          5.3  2010-03-09 07:51:00 UTC   \n",
       "\n",
       "   pickup_longitude  pickup_latitude  dropoff_longitude  dropoff_latitude  \\\n",
       "0        -73.844311        40.721319         -73.841610         40.712278   \n",
       "1        -74.016048        40.711303         -73.979268         40.782004   \n",
       "2        -73.982738        40.761270         -73.991242         40.750562   \n",
       "3        -73.987130        40.733143         -73.991567         40.758092   \n",
       "4        -73.968095        40.768008         -73.956655         40.783762   \n",
       "\n",
       "   passenger_count                 EDT  Hour   Weekday AMorPM  \n",
       "0                1 2009-06-15 21:26:21    21    Monday     PM  \n",
       "1                1 2010-01-05 20:52:16    20   Tuesday     PM  \n",
       "2                2 2011-08-18 04:35:00     4  Thursday     AM  \n",
       "3                1 2012-04-21 08:30:42     8  Saturday     AM  \n",
       "4                1 2010-03-09 11:51:00    11   Tuesday     AM  "
      ]
     },
     "execution_count": 9,
     "metadata": {},
     "output_type": "execute_result"
    }
   ],
   "source": [
    "data.rename({\"key\":\"MasterDataTime\"},axis=1, inplace=True); data.head()"
   ]
  },
  {
   "cell_type": "markdown",
   "id": "retired-bradford",
   "metadata": {},
   "source": [
    "## Try out baseline with the above basic feature engineering"
   ]
  },
  {
   "cell_type": "code",
   "execution_count": 10,
   "id": "greek-jaguar",
   "metadata": {},
   "outputs": [],
   "source": [
    "features_of_interest = [\"passenger_count\", \"Hour\",\"Weekday\",\"AMorPM\",\"fare_amount\"]\n",
    "df = data[features_of_interest].copy()\n",
    "\n",
    "# Numericalising\n",
    "for col in [\"Weekday\",\"AMorPM\"]:\n",
    "    df[col] = df[col].astype(\"category\").cat.codes\n",
    "\n",
    "feature = df.drop(\"fare_amount\", axis=1).copy()\n",
    "target = df.fare_amount.copy()"
   ]
  },
  {
   "cell_type": "code",
   "execution_count": 11,
   "id": "running-court",
   "metadata": {},
   "outputs": [],
   "source": [
    "X_train, X_eval, y_train, y_eval = train_test_split(feature,\n",
    "                                                   target,\n",
    "                                                   test_size=0.1,\n",
    "                                                   random_state=0,\n",
    "                                                   )"
   ]
  },
  {
   "cell_type": "code",
   "execution_count": 12,
   "id": "round-article",
   "metadata": {},
   "outputs": [],
   "source": [
    "X_valid, X_test, y_valid, y_test= train_test_split(X_eval,\n",
    "                                                  y_eval,\n",
    "                                                  test_size=0.5,\n",
    "                                                  random_state=0) "
   ]
  },
  {
   "cell_type": "code",
   "execution_count": 13,
   "id": "determined-glasgow",
   "metadata": {},
   "outputs": [],
   "source": [
    "baseline_LRO = LinearRegression(normalize=True)"
   ]
  },
  {
   "cell_type": "code",
   "execution_count": 14,
   "id": "empty-possibility",
   "metadata": {},
   "outputs": [],
   "source": [
    "model = baseline_LRO.fit(X_train, y_train)"
   ]
  },
  {
   "cell_type": "markdown",
   "id": "pleased-transcript",
   "metadata": {},
   "source": [
    "### First Baseline Model Interpretion\n",
    "Based on our current feature engineering strategy, our model explains about 0.6% of the total variation of the data, which is awful. This means that our model predicts mildly better than merely predicting the mean of the target."
   ]
  },
  {
   "cell_type": "code",
   "execution_count": 15,
   "id": "worst-definition",
   "metadata": {},
   "outputs": [
    {
     "data": {
      "text/plain": [
       "0.06462286984936227"
      ]
     },
     "execution_count": 15,
     "metadata": {},
     "output_type": "execute_result"
    }
   ],
   "source": [
    "model.score(X_train, y_train)*100"
   ]
  },
  {
   "cell_type": "markdown",
   "id": "dynamic-lingerie",
   "metadata": {},
   "source": [
    "Compare the mean of the target with the RMSE of our prediction. They should match, as the R2 score hinted at."
   ]
  },
  {
   "cell_type": "code",
   "execution_count": 16,
   "id": "bridal-birmingham",
   "metadata": {},
   "outputs": [
    {
     "data": {
      "text/plain": [
       "9.66495969297465"
      ]
     },
     "execution_count": 16,
     "metadata": {},
     "output_type": "execute_result"
    }
   ],
   "source": [
    "pred = baseline_LRO.predict(X_valid)\n",
    "\n",
    "# RMSE\n",
    "np.sqrt(mean_squared_error(y_valid, pred))"
   ]
  },
  {
   "cell_type": "code",
   "execution_count": 17,
   "id": "changing-toronto",
   "metadata": {},
   "outputs": [
    {
     "data": {
      "text/plain": [
       "11.348078720000004"
      ]
     },
     "execution_count": 17,
     "metadata": {},
     "output_type": "execute_result"
    }
   ],
   "source": [
    "# target mean\n",
    "data.fare_amount.mean()"
   ]
  },
  {
   "cell_type": "markdown",
   "id": "quarterly-brush",
   "metadata": {},
   "source": [
    "## This indicates that our current features are inadequate at predicting the target.\n",
    "\n",
    "We now try to make the latitude and longitude more usable"
   ]
  },
  {
   "cell_type": "markdown",
   "id": "sunrise-queens",
   "metadata": {},
   "source": [
    "# Creating more features"
   ]
  },
  {
   "cell_type": "markdown",
   "id": "handmade-topic",
   "metadata": {},
   "source": [
    "## Haversine conversion"
   ]
  },
  {
   "cell_type": "code",
   "execution_count": 18,
   "id": "supposed-marathon",
   "metadata": {},
   "outputs": [],
   "source": [
    "data = pd.read_csv(\"data/train.csv\",\n",
    "                   date_parser=True,\n",
    "                  nrows=1000000)"
   ]
  },
  {
   "cell_type": "code",
   "execution_count": 19,
   "id": "faced-bangladesh",
   "metadata": {},
   "outputs": [],
   "source": [
    "def kms(df, lat1, long1, lat2, long2):\n",
    "    \"\"\"\n",
    "    Calculates the haversine distance between 2 sets of GPS coordinates in df\n",
    "    \"\"\"\n",
    "    r = 6371  # average radius of Earth in kilometers\n",
    "       \n",
    "    phi1 = np.radians(df[lat1])\n",
    "    phi2 = np.radians(df[lat2])\n",
    "    \n",
    "    delta_phi = np.radians(df[lat2]-df[lat1])\n",
    "    delta_lambda = np.radians(df[long2]-df[long1])\n",
    "     \n",
    "    a = np.sin(delta_phi/2)**2 + np.cos(phi1) * np.cos(phi2) * np.sin(delta_lambda/2)**2\n",
    "    c = 2 * np.arctan2(np.sqrt(a), np.sqrt(1-a))\n",
    "    d = (r * c) # in kilometers\n",
    "\n",
    "    return d"
   ]
  },
  {
   "cell_type": "code",
   "execution_count": 20,
   "id": "representative-silicon",
   "metadata": {},
   "outputs": [],
   "source": [
    "data['kms'] = kms(data, \n",
    "                'pickup_latitude',\n",
    "                'pickup_longitude',\n",
    "                'dropoff_latitude',\n",
    "                'dropoff_longitude',\n",
    "               )"
   ]
  },
  {
   "cell_type": "markdown",
   "id": "varying-motion",
   "metadata": {},
   "source": [
    "## Extracting features from date including adjusting for DLS"
   ]
  },
  {
   "cell_type": "code",
   "execution_count": 21,
   "id": "described-serum",
   "metadata": {},
   "outputs": [
    {
     "data": {
      "text/html": [
       "<div>\n",
       "<style scoped>\n",
       "    .dataframe tbody tr th:only-of-type {\n",
       "        vertical-align: middle;\n",
       "    }\n",
       "\n",
       "    .dataframe tbody tr th {\n",
       "        vertical-align: top;\n",
       "    }\n",
       "\n",
       "    .dataframe thead th {\n",
       "        text-align: right;\n",
       "    }\n",
       "</style>\n",
       "<table border=\"1\" class=\"dataframe\">\n",
       "  <thead>\n",
       "    <tr style=\"text-align: right;\">\n",
       "      <th></th>\n",
       "      <th>0</th>\n",
       "      <th>1</th>\n",
       "      <th>2</th>\n",
       "      <th>3</th>\n",
       "      <th>4</th>\n",
       "    </tr>\n",
       "  </thead>\n",
       "  <tbody>\n",
       "    <tr>\n",
       "      <th>key</th>\n",
       "      <td>2009-06-15 17:26:21.0000001</td>\n",
       "      <td>2010-01-05 16:52:16.0000002</td>\n",
       "      <td>2011-08-18 00:35:00.00000049</td>\n",
       "      <td>2012-04-21 04:30:42.0000001</td>\n",
       "      <td>2010-03-09 07:51:00.000000135</td>\n",
       "    </tr>\n",
       "    <tr>\n",
       "      <th>fare_amount</th>\n",
       "      <td>4.5</td>\n",
       "      <td>16.9</td>\n",
       "      <td>5.7</td>\n",
       "      <td>7.7</td>\n",
       "      <td>5.3</td>\n",
       "    </tr>\n",
       "    <tr>\n",
       "      <th>pickup_datetime</th>\n",
       "      <td>2009-06-15 17:26:21 UTC</td>\n",
       "      <td>2010-01-05 16:52:16 UTC</td>\n",
       "      <td>2011-08-18 00:35:00 UTC</td>\n",
       "      <td>2012-04-21 04:30:42 UTC</td>\n",
       "      <td>2010-03-09 07:51:00 UTC</td>\n",
       "    </tr>\n",
       "    <tr>\n",
       "      <th>pickup_longitude</th>\n",
       "      <td>-73.8443</td>\n",
       "      <td>-74.016</td>\n",
       "      <td>-73.9827</td>\n",
       "      <td>-73.9871</td>\n",
       "      <td>-73.9681</td>\n",
       "    </tr>\n",
       "    <tr>\n",
       "      <th>pickup_latitude</th>\n",
       "      <td>40.7213</td>\n",
       "      <td>40.7113</td>\n",
       "      <td>40.7613</td>\n",
       "      <td>40.7331</td>\n",
       "      <td>40.768</td>\n",
       "    </tr>\n",
       "    <tr>\n",
       "      <th>dropoff_longitude</th>\n",
       "      <td>-73.8416</td>\n",
       "      <td>-73.9793</td>\n",
       "      <td>-73.9912</td>\n",
       "      <td>-73.9916</td>\n",
       "      <td>-73.9567</td>\n",
       "    </tr>\n",
       "    <tr>\n",
       "      <th>dropoff_latitude</th>\n",
       "      <td>40.7123</td>\n",
       "      <td>40.782</td>\n",
       "      <td>40.7506</td>\n",
       "      <td>40.7581</td>\n",
       "      <td>40.7838</td>\n",
       "    </tr>\n",
       "    <tr>\n",
       "      <th>passenger_count</th>\n",
       "      <td>1</td>\n",
       "      <td>1</td>\n",
       "      <td>2</td>\n",
       "      <td>1</td>\n",
       "      <td>1</td>\n",
       "    </tr>\n",
       "    <tr>\n",
       "      <th>kms</th>\n",
       "      <td>1.03076</td>\n",
       "      <td>8.45013</td>\n",
       "      <td>1.38953</td>\n",
       "      <td>2.79927</td>\n",
       "      <td>1.99916</td>\n",
       "    </tr>\n",
       "    <tr>\n",
       "      <th>EDTdate</th>\n",
       "      <td>2009-06-15 13:26:21</td>\n",
       "      <td>2010-01-05 12:52:16</td>\n",
       "      <td>2011-08-17 20:35:00</td>\n",
       "      <td>2012-04-21 00:30:42</td>\n",
       "      <td>2010-03-09 03:51:00</td>\n",
       "    </tr>\n",
       "    <tr>\n",
       "      <th>Hour</th>\n",
       "      <td>13</td>\n",
       "      <td>12</td>\n",
       "      <td>20</td>\n",
       "      <td>0</td>\n",
       "      <td>3</td>\n",
       "    </tr>\n",
       "    <tr>\n",
       "      <th>AMorPM</th>\n",
       "      <td>pm</td>\n",
       "      <td>pm</td>\n",
       "      <td>pm</td>\n",
       "      <td>am</td>\n",
       "      <td>am</td>\n",
       "    </tr>\n",
       "    <tr>\n",
       "      <th>Weekday</th>\n",
       "      <td>Monday</td>\n",
       "      <td>Tuesday</td>\n",
       "      <td>Wednesday</td>\n",
       "      <td>Saturday</td>\n",
       "      <td>Tuesday</td>\n",
       "    </tr>\n",
       "  </tbody>\n",
       "</table>\n",
       "</div>"
      ],
      "text/plain": [
       "                                             0                            1  \\\n",
       "key                2009-06-15 17:26:21.0000001  2010-01-05 16:52:16.0000002   \n",
       "fare_amount                                4.5                         16.9   \n",
       "pickup_datetime        2009-06-15 17:26:21 UTC      2010-01-05 16:52:16 UTC   \n",
       "pickup_longitude                      -73.8443                      -74.016   \n",
       "pickup_latitude                        40.7213                      40.7113   \n",
       "dropoff_longitude                     -73.8416                     -73.9793   \n",
       "dropoff_latitude                       40.7123                       40.782   \n",
       "passenger_count                              1                            1   \n",
       "kms                                    1.03076                      8.45013   \n",
       "EDTdate                    2009-06-15 13:26:21          2010-01-05 12:52:16   \n",
       "Hour                                        13                           12   \n",
       "AMorPM                                      pm                           pm   \n",
       "Weekday                                 Monday                      Tuesday   \n",
       "\n",
       "                                              2                            3  \\\n",
       "key                2011-08-18 00:35:00.00000049  2012-04-21 04:30:42.0000001   \n",
       "fare_amount                                 5.7                          7.7   \n",
       "pickup_datetime         2011-08-18 00:35:00 UTC      2012-04-21 04:30:42 UTC   \n",
       "pickup_longitude                       -73.9827                     -73.9871   \n",
       "pickup_latitude                         40.7613                      40.7331   \n",
       "dropoff_longitude                      -73.9912                     -73.9916   \n",
       "dropoff_latitude                        40.7506                      40.7581   \n",
       "passenger_count                               2                            1   \n",
       "kms                                     1.38953                      2.79927   \n",
       "EDTdate                     2011-08-17 20:35:00          2012-04-21 00:30:42   \n",
       "Hour                                         20                            0   \n",
       "AMorPM                                       pm                           am   \n",
       "Weekday                               Wednesday                     Saturday   \n",
       "\n",
       "                                               4  \n",
       "key                2010-03-09 07:51:00.000000135  \n",
       "fare_amount                                  5.3  \n",
       "pickup_datetime          2010-03-09 07:51:00 UTC  \n",
       "pickup_longitude                        -73.9681  \n",
       "pickup_latitude                           40.768  \n",
       "dropoff_longitude                       -73.9567  \n",
       "dropoff_latitude                         40.7838  \n",
       "passenger_count                                1  \n",
       "kms                                      1.99916  \n",
       "EDTdate                      2010-03-09 03:51:00  \n",
       "Hour                                           3  \n",
       "AMorPM                                        am  \n",
       "Weekday                                  Tuesday  "
      ]
     },
     "execution_count": 21,
     "metadata": {},
     "output_type": "execute_result"
    }
   ],
   "source": [
    "data['EDTdate'] = pd.to_datetime(data['pickup_datetime'].str[:19]) - pd.Timedelta(hours=4)\n",
    "\n",
    "data['Hour']    = data['EDTdate'].dt.hour\n",
    "data['AMorPM']  = np.where(data['Hour']<12,'am','pm')\n",
    "data['Weekday'] = data['EDTdate'].dt.weekday_name\n",
    "data.head().T"
   ]
  },
  {
   "cell_type": "markdown",
   "id": "allied-sending",
   "metadata": {},
   "source": [
    "## Saving processed file"
   ]
  },
  {
   "cell_type": "code",
   "execution_count": null,
   "id": "electoral-weekly",
   "metadata": {},
   "outputs": [],
   "source": [
    "data.to_csv(\"data/processed_train.csv\")"
   ]
  },
  {
   "cell_type": "code",
   "execution_count": null,
   "id": "fatal-wheel",
   "metadata": {},
   "outputs": [],
   "source": []
  },
  {
   "cell_type": "code",
   "execution_count": null,
   "id": "tight-cyprus",
   "metadata": {},
   "outputs": [],
   "source": []
  },
  {
   "cell_type": "code",
   "execution_count": null,
   "id": "invalid-ancient",
   "metadata": {},
   "outputs": [],
   "source": []
  },
  {
   "cell_type": "markdown",
   "id": "subject-theory",
   "metadata": {},
   "source": [
    "## Numericalising"
   ]
  },
  {
   "cell_type": "code",
   "execution_count": null,
   "id": "governmental-omega",
   "metadata": {},
   "outputs": [],
   "source": []
  },
  {
   "cell_type": "code",
   "execution_count": null,
   "id": "grateful-vegetation",
   "metadata": {},
   "outputs": [],
   "source": [
    "features_of_interest = [\"passenger_count\", \"kms\", \"Hour\",\"Weekday\",\"AMorPM\",\"fare_amount\"]\n",
    "df = data[features_of_interest].dropna().copy()\n",
    "\n",
    "# Numericalising\n",
    "for col in [\"Weekday\",\"AMorPM\"]:\n",
    "    df[col] = df[col].astype(\"category\").cat.codes\n",
    "\n",
    "feature = df.drop(\"fare_amount\", axis=1).copy()\n",
    "target = df.fare_amount.copy()"
   ]
  },
  {
   "cell_type": "code",
   "execution_count": null,
   "id": "stuck-sector",
   "metadata": {},
   "outputs": [],
   "source": [
    "feature.dtypes"
   ]
  },
  {
   "cell_type": "code",
   "execution_count": null,
   "id": "arabic-kansas",
   "metadata": {},
   "outputs": [],
   "source": [
    "X_train, X_eval, y_train, y_eval = train_test_split(feature,\n",
    "                                                   target,\n",
    "                                                   test_size=0.1,\n",
    "                                                   random_state=0,\n",
    "                                                   )"
   ]
  },
  {
   "cell_type": "code",
   "execution_count": null,
   "id": "little-header",
   "metadata": {},
   "outputs": [],
   "source": [
    "X_valid, X_test, y_valid, y_test= train_test_split(X_eval,\n",
    "                                                  y_eval,\n",
    "                                                  test_size=0.5,\n",
    "                                                  random_state=0) "
   ]
  },
  {
   "cell_type": "code",
   "execution_count": null,
   "id": "toxic-plastic",
   "metadata": {},
   "outputs": [],
   "source": [
    "baseline_LRO = LinearRegression(normalize=True)\n",
    "model = baseline_LRO.fit(X_train, y_train)\n",
    "model.score(X_train, y_train)*100"
   ]
  },
  {
   "cell_type": "code",
   "execution_count": null,
   "id": "younger-connecticut",
   "metadata": {},
   "outputs": [],
   "source": [
    "pred = baseline_LRO.predict(X_valid)\n",
    "\n",
    "# RMSE\n",
    "np.sqrt(mean_squared_error(y_valid, pred))"
   ]
  },
  {
   "cell_type": "code",
   "execution_count": null,
   "id": "opposite-thomas",
   "metadata": {},
   "outputs": [],
   "source": []
  }
 ],
 "metadata": {
  "kernelspec": {
   "display_name": "Python 3",
   "language": "python",
   "name": "python3"
  },
  "language_info": {
   "codemirror_mode": {
    "name": "ipython",
    "version": 3
   },
   "file_extension": ".py",
   "mimetype": "text/x-python",
   "name": "python",
   "nbconvert_exporter": "python",
   "pygments_lexer": "ipython3",
   "version": "3.7.3"
  }
 },
 "nbformat": 4,
 "nbformat_minor": 5
}
