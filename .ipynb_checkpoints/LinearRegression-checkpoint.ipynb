{
 "cells": [
  {
   "cell_type": "code",
   "execution_count": 14,
   "id": "reliable-qualification",
   "metadata": {},
   "outputs": [],
   "source": [
    "import warnings\n",
    "warnings.filterwarnings(\"ignore\")\n",
    "\n",
    "import numpy as np, pandas as pd\n",
    "from sklearn.linear_model import LinearRegression\n",
    "from sklearn.model_selection import train_test_split\n",
    "from sklearn.metrics import mean_squared_error"
   ]
  },
  {
   "cell_type": "code",
   "execution_count": 2,
   "id": "exterior-appearance",
   "metadata": {},
   "outputs": [
    {
     "data": {
      "text/html": [
       "<div>\n",
       "<style scoped>\n",
       "    .dataframe tbody tr th:only-of-type {\n",
       "        vertical-align: middle;\n",
       "    }\n",
       "\n",
       "    .dataframe tbody tr th {\n",
       "        vertical-align: top;\n",
       "    }\n",
       "\n",
       "    .dataframe thead th {\n",
       "        text-align: right;\n",
       "    }\n",
       "</style>\n",
       "<table border=\"1\" class=\"dataframe\">\n",
       "  <thead>\n",
       "    <tr style=\"text-align: right;\">\n",
       "      <th></th>\n",
       "      <th>0</th>\n",
       "      <th>1</th>\n",
       "      <th>2</th>\n",
       "      <th>3</th>\n",
       "      <th>4</th>\n",
       "    </tr>\n",
       "  </thead>\n",
       "  <tbody>\n",
       "    <tr>\n",
       "      <th>MasterDataTime</th>\n",
       "      <td>2009-06-15 17:26:21.0000001</td>\n",
       "      <td>2010-01-05 16:52:16.0000002</td>\n",
       "      <td>2011-08-18 00:35:00.00000049</td>\n",
       "      <td>2012-04-21 04:30:42.0000001</td>\n",
       "      <td>2010-03-09 07:51:00.000000135</td>\n",
       "    </tr>\n",
       "    <tr>\n",
       "      <th>fare_amount</th>\n",
       "      <td>4.5</td>\n",
       "      <td>16.9</td>\n",
       "      <td>5.7</td>\n",
       "      <td>7.7</td>\n",
       "      <td>5.3</td>\n",
       "    </tr>\n",
       "    <tr>\n",
       "      <th>pickup_datetime</th>\n",
       "      <td>2009-06-15 17:26:21 UTC</td>\n",
       "      <td>2010-01-05 16:52:16 UTC</td>\n",
       "      <td>2011-08-18 00:35:00 UTC</td>\n",
       "      <td>2012-04-21 04:30:42 UTC</td>\n",
       "      <td>2010-03-09 07:51:00 UTC</td>\n",
       "    </tr>\n",
       "    <tr>\n",
       "      <th>pickup_longitude</th>\n",
       "      <td>-73.8443</td>\n",
       "      <td>-74.016</td>\n",
       "      <td>-73.9827</td>\n",
       "      <td>-73.9871</td>\n",
       "      <td>-73.9681</td>\n",
       "    </tr>\n",
       "    <tr>\n",
       "      <th>pickup_latitude</th>\n",
       "      <td>40.7213</td>\n",
       "      <td>40.7113</td>\n",
       "      <td>40.7613</td>\n",
       "      <td>40.7331</td>\n",
       "      <td>40.768</td>\n",
       "    </tr>\n",
       "    <tr>\n",
       "      <th>dropoff_longitude</th>\n",
       "      <td>-73.8416</td>\n",
       "      <td>-73.9793</td>\n",
       "      <td>-73.9912</td>\n",
       "      <td>-73.9916</td>\n",
       "      <td>-73.9567</td>\n",
       "    </tr>\n",
       "    <tr>\n",
       "      <th>dropoff_latitude</th>\n",
       "      <td>40.7123</td>\n",
       "      <td>40.782</td>\n",
       "      <td>40.7506</td>\n",
       "      <td>40.7581</td>\n",
       "      <td>40.7838</td>\n",
       "    </tr>\n",
       "    <tr>\n",
       "      <th>passenger_count</th>\n",
       "      <td>1</td>\n",
       "      <td>1</td>\n",
       "      <td>2</td>\n",
       "      <td>1</td>\n",
       "      <td>1</td>\n",
       "    </tr>\n",
       "    <tr>\n",
       "      <th>EDT</th>\n",
       "      <td>2009-06-15 21:26:21</td>\n",
       "      <td>2010-01-05 20:52:16</td>\n",
       "      <td>2011-08-18 04:35:00</td>\n",
       "      <td>2012-04-21 08:30:42</td>\n",
       "      <td>2010-03-09 11:51:00</td>\n",
       "    </tr>\n",
       "    <tr>\n",
       "      <th>Hour</th>\n",
       "      <td>21</td>\n",
       "      <td>20</td>\n",
       "      <td>4</td>\n",
       "      <td>8</td>\n",
       "      <td>11</td>\n",
       "    </tr>\n",
       "    <tr>\n",
       "      <th>Weekday</th>\n",
       "      <td>Monday</td>\n",
       "      <td>Tuesday</td>\n",
       "      <td>Thursday</td>\n",
       "      <td>Saturday</td>\n",
       "      <td>Tuesday</td>\n",
       "    </tr>\n",
       "    <tr>\n",
       "      <th>AMorPM</th>\n",
       "      <td>PM</td>\n",
       "      <td>PM</td>\n",
       "      <td>AM</td>\n",
       "      <td>AM</td>\n",
       "      <td>AM</td>\n",
       "    </tr>\n",
       "  </tbody>\n",
       "</table>\n",
       "</div>"
      ],
      "text/plain": [
       "                                             0                            1  \\\n",
       "MasterDataTime     2009-06-15 17:26:21.0000001  2010-01-05 16:52:16.0000002   \n",
       "fare_amount                                4.5                         16.9   \n",
       "pickup_datetime        2009-06-15 17:26:21 UTC      2010-01-05 16:52:16 UTC   \n",
       "pickup_longitude                      -73.8443                      -74.016   \n",
       "pickup_latitude                        40.7213                      40.7113   \n",
       "dropoff_longitude                     -73.8416                     -73.9793   \n",
       "dropoff_latitude                       40.7123                       40.782   \n",
       "passenger_count                              1                            1   \n",
       "EDT                        2009-06-15 21:26:21          2010-01-05 20:52:16   \n",
       "Hour                                        21                           20   \n",
       "Weekday                                 Monday                      Tuesday   \n",
       "AMorPM                                      PM                           PM   \n",
       "\n",
       "                                              2                            3  \\\n",
       "MasterDataTime     2011-08-18 00:35:00.00000049  2012-04-21 04:30:42.0000001   \n",
       "fare_amount                                 5.7                          7.7   \n",
       "pickup_datetime         2011-08-18 00:35:00 UTC      2012-04-21 04:30:42 UTC   \n",
       "pickup_longitude                       -73.9827                     -73.9871   \n",
       "pickup_latitude                         40.7613                      40.7331   \n",
       "dropoff_longitude                      -73.9912                     -73.9916   \n",
       "dropoff_latitude                        40.7506                      40.7581   \n",
       "passenger_count                               2                            1   \n",
       "EDT                         2011-08-18 04:35:00          2012-04-21 08:30:42   \n",
       "Hour                                          4                            8   \n",
       "Weekday                                Thursday                     Saturday   \n",
       "AMorPM                                       AM                           AM   \n",
       "\n",
       "                                               4  \n",
       "MasterDataTime     2010-03-09 07:51:00.000000135  \n",
       "fare_amount                                  5.3  \n",
       "pickup_datetime          2010-03-09 07:51:00 UTC  \n",
       "pickup_longitude                        -73.9681  \n",
       "pickup_latitude                           40.768  \n",
       "dropoff_longitude                       -73.9567  \n",
       "dropoff_latitude                         40.7838  \n",
       "passenger_count                                1  \n",
       "EDT                          2010-03-09 11:51:00  \n",
       "Hour                                          11  \n",
       "Weekday                                  Tuesday  \n",
       "AMorPM                                        AM  "
      ]
     },
     "execution_count": 2,
     "metadata": {},
     "output_type": "execute_result"
    }
   ],
   "source": [
    "df = pd.read_csv(\"data/preprocessed_train.csv\")\n",
    "df.head().T"
   ]
  },
  {
   "cell_type": "code",
   "execution_count": 3,
   "id": "dirty-michigan",
   "metadata": {},
   "outputs": [
    {
     "data": {
      "text/plain": [
       "MasterDataTime        object\n",
       "fare_amount          float64\n",
       "pickup_datetime       object\n",
       "pickup_longitude     float64\n",
       "pickup_latitude      float64\n",
       "dropoff_longitude    float64\n",
       "dropoff_latitude     float64\n",
       "passenger_count        int64\n",
       "EDT                   object\n",
       "Hour                   int64\n",
       "Weekday               object\n",
       "AMorPM                object\n",
       "dtype: object"
      ]
     },
     "execution_count": 3,
     "metadata": {},
     "output_type": "execute_result"
    }
   ],
   "source": [
    "df.dtypes"
   ]
  },
  {
   "cell_type": "code",
   "execution_count": 4,
   "id": "educational-pastor",
   "metadata": {},
   "outputs": [],
   "source": [
    "target = 'fare_amount'\n",
    "features = ['passenger_count','Hour','Weekday','AMorPM']\n",
    "\n",
    "# numericalising\n",
    "for col in features:\n",
    "    if df[col].dtype == 'object':\n",
    "        df[col] = df[col].astype(\"category\").cat.codes"
   ]
  },
  {
   "cell_type": "markdown",
   "id": "scientific-occasions",
   "metadata": {},
   "source": [
    "## Data split for modelling"
   ]
  },
  {
   "cell_type": "code",
   "execution_count": 8,
   "id": "descending-mapping",
   "metadata": {},
   "outputs": [],
   "source": [
    "X = df[features].copy().values\n",
    "y = df[target].copy().values"
   ]
  },
  {
   "cell_type": "code",
   "execution_count": 10,
   "id": "isolated-medline",
   "metadata": {},
   "outputs": [],
   "source": [
    "X_train, X_test, y_train, y_test = train_test_split(X, y, random_state=42)"
   ]
  },
  {
   "cell_type": "code",
   "execution_count": null,
   "id": "typical-portuguese",
   "metadata": {},
   "outputs": [],
   "source": []
  },
  {
   "cell_type": "code",
   "execution_count": null,
   "id": "narrative-touch",
   "metadata": {},
   "outputs": [],
   "source": []
  },
  {
   "cell_type": "markdown",
   "id": "previous-destruction",
   "metadata": {},
   "source": [
    "## Building a super-simple Linear Regression"
   ]
  },
  {
   "cell_type": "code",
   "execution_count": 11,
   "id": "certain-charger",
   "metadata": {},
   "outputs": [],
   "source": [
    "model_basic = LinearRegression().fit(X_train, y_train)"
   ]
  },
  {
   "cell_type": "code",
   "execution_count": 12,
   "id": "burning-documentary",
   "metadata": {},
   "outputs": [
    {
     "data": {
      "text/plain": [
       "0.0006355124093436748"
      ]
     },
     "execution_count": 12,
     "metadata": {},
     "output_type": "execute_result"
    }
   ],
   "source": [
    "# r2 score\n",
    "model_basic.score(X_train, y_train)"
   ]
  },
  {
   "cell_type": "code",
   "execution_count": 17,
   "id": "proper-puppy",
   "metadata": {},
   "outputs": [],
   "source": [
    "preds_basic = model_basic.predict(X_test)"
   ]
  },
  {
   "cell_type": "code",
   "execution_count": 18,
   "id": "continued-comparison",
   "metadata": {},
   "outputs": [
    {
     "data": {
      "text/plain": [
       "9.775299648984795"
      ]
     },
     "execution_count": 18,
     "metadata": {},
     "output_type": "execute_result"
    }
   ],
   "source": [
    "np.sqrt(mean_squared_error(y_test, preds_basic))"
   ]
  },
  {
   "cell_type": "code",
   "execution_count": 19,
   "id": "handed-perfume",
   "metadata": {},
   "outputs": [
    {
     "data": {
      "text/plain": [
       "11.348078720000004"
      ]
     },
     "execution_count": 19,
     "metadata": {},
     "output_type": "execute_result"
    }
   ],
   "source": [
    "# average price\n",
    "df[target].mean()"
   ]
  },
  {
   "cell_type": "markdown",
   "id": "settled-exhibition",
   "metadata": {},
   "source": [
    "## Super Basic LR gave bad result, so now to try with the remaining features"
   ]
  },
  {
   "cell_type": "code",
   "execution_count": 22,
   "id": "european-construction",
   "metadata": {},
   "outputs": [
    {
     "data": {
      "text/plain": [
       "Index(['MasterDataTime', 'fare_amount', 'pickup_datetime', 'pickup_longitude',\n",
       "       'pickup_latitude', 'dropoff_longitude', 'dropoff_latitude',\n",
       "       'passenger_count', 'EDT', 'Hour', 'Weekday', 'AMorPM'],\n",
       "      dtype='object')"
      ]
     },
     "execution_count": 22,
     "metadata": {},
     "output_type": "execute_result"
    }
   ],
   "source": [
    "df.columns"
   ]
  },
  {
   "cell_type": "code",
   "execution_count": 23,
   "id": "sorted-jacksonville",
   "metadata": {},
   "outputs": [
    {
     "data": {
      "text/plain": [
       "MasterDataTime        object\n",
       "fare_amount          float64\n",
       "pickup_datetime       object\n",
       "pickup_longitude     float64\n",
       "pickup_latitude      float64\n",
       "dropoff_longitude    float64\n",
       "dropoff_latitude     float64\n",
       "passenger_count        int64\n",
       "EDT                   object\n",
       "Hour                   int64\n",
       "Weekday                 int8\n",
       "AMorPM                  int8\n",
       "dtype: object"
      ]
     },
     "execution_count": 23,
     "metadata": {},
     "output_type": "execute_result"
    }
   ],
   "source": [
    "df.dtypes"
   ]
  },
  {
   "cell_type": "code",
   "execution_count": 25,
   "id": "crucial-pursuit",
   "metadata": {},
   "outputs": [
    {
     "data": {
      "text/plain": [
       "['passenger_count',\n",
       " 'Hour',\n",
       " 'Weekday',\n",
       " 'AMorPM',\n",
       " 'pickup_longitude',\n",
       " 'pickup_latitude',\n",
       " 'dropoff_longitude',\n",
       " 'dropoff_latitude']"
      ]
     },
     "execution_count": 25,
     "metadata": {},
     "output_type": "execute_result"
    }
   ],
   "source": [
    "features.extend(['pickup_longitude',\n",
    "                 'pickup_latitude',\n",
    "                 'dropoff_longitude',\n",
    "                 'dropoff_latitude'])\n",
    "features"
   ]
  },
  {
   "cell_type": "markdown",
   "id": "formal-truck",
   "metadata": {},
   "source": [
    "### DataSplits"
   ]
  },
  {
   "cell_type": "code",
   "execution_count": 30,
   "id": "instrumental-cooler",
   "metadata": {},
   "outputs": [
    {
     "data": {
      "text/plain": [
       "1000000"
      ]
     },
     "execution_count": 30,
     "metadata": {},
     "output_type": "execute_result"
    }
   ],
   "source": [
    "len(df)"
   ]
  },
  {
   "cell_type": "code",
   "execution_count": 31,
   "id": "periodic-disabled",
   "metadata": {},
   "outputs": [
    {
     "data": {
      "text/plain": [
       "999990"
      ]
     },
     "execution_count": 31,
     "metadata": {},
     "output_type": "execute_result"
    }
   ],
   "source": [
    "len(df.dropna())"
   ]
  },
  {
   "cell_type": "code",
   "execution_count": 35,
   "id": "hawaiian-spring",
   "metadata": {},
   "outputs": [],
   "source": [
    "df = df.dropna()\n",
    "X = df[features].copy().values\n",
    "y = df[target].copy().values\n",
    "\n",
    "X_train, X_test, y_train, y_test = train_test_split(X, y, random_state=42)"
   ]
  },
  {
   "cell_type": "markdown",
   "id": "committed-seeking",
   "metadata": {},
   "source": [
    "## Model, and performance"
   ]
  },
  {
   "cell_type": "code",
   "execution_count": 36,
   "id": "african-johnson",
   "metadata": {},
   "outputs": [
    {
     "data": {
      "text/plain": [
       "0.0007812195707043168"
      ]
     },
     "execution_count": 36,
     "metadata": {},
     "output_type": "execute_result"
    }
   ],
   "source": [
    "model_baseline = LinearRegression().fit(X_train, y_train)\n",
    "\n",
    "# r2 score\n",
    "model_baseline.score(X_train, y_train)"
   ]
  },
  {
   "cell_type": "code",
   "execution_count": 40,
   "id": "furnished-attendance",
   "metadata": {},
   "outputs": [],
   "source": [
    "preds_baseline = model_baseline.predict(X_test)"
   ]
  },
  {
   "cell_type": "code",
   "execution_count": 41,
   "id": "controlled-resident",
   "metadata": {},
   "outputs": [
    {
     "data": {
      "text/plain": [
       "9.827672576205861"
      ]
     },
     "execution_count": 41,
     "metadata": {},
     "output_type": "execute_result"
    }
   ],
   "source": [
    "np.sqrt(mean_squared_error(y_test, preds_baseline))"
   ]
  },
  {
   "cell_type": "markdown",
   "id": "bored-electricity",
   "metadata": {},
   "source": [
    "## Linear Regression is using one hot encoding\n"
   ]
  },
  {
   "cell_type": "code",
   "execution_count": 42,
   "id": "nonprofit-document",
   "metadata": {},
   "outputs": [],
   "source": [
    "from sklearn.preprocessing import OneHotEncoder"
   ]
  },
  {
   "cell_type": "code",
   "execution_count": 43,
   "id": "exempt-entry",
   "metadata": {},
   "outputs": [],
   "source": [
    "ohe = OneHotEncoder(sparse=False, handle_unknown=\"ignore\")"
   ]
  },
  {
   "cell_type": "code",
   "execution_count": 44,
   "id": "rough-documentation",
   "metadata": {},
   "outputs": [
    {
     "data": {
      "text/html": [
       "<div>\n",
       "<style scoped>\n",
       "    .dataframe tbody tr th:only-of-type {\n",
       "        vertical-align: middle;\n",
       "    }\n",
       "\n",
       "    .dataframe tbody tr th {\n",
       "        vertical-align: top;\n",
       "    }\n",
       "\n",
       "    .dataframe thead th {\n",
       "        text-align: right;\n",
       "    }\n",
       "</style>\n",
       "<table border=\"1\" class=\"dataframe\">\n",
       "  <thead>\n",
       "    <tr style=\"text-align: right;\">\n",
       "      <th></th>\n",
       "      <th>0</th>\n",
       "      <th>1</th>\n",
       "      <th>2</th>\n",
       "      <th>3</th>\n",
       "      <th>4</th>\n",
       "    </tr>\n",
       "  </thead>\n",
       "  <tbody>\n",
       "    <tr>\n",
       "      <th>MasterDataTime</th>\n",
       "      <td>2009-06-15 17:26:21.0000001</td>\n",
       "      <td>2010-01-05 16:52:16.0000002</td>\n",
       "      <td>2011-08-18 00:35:00.00000049</td>\n",
       "      <td>2012-04-21 04:30:42.0000001</td>\n",
       "      <td>2010-03-09 07:51:00.000000135</td>\n",
       "    </tr>\n",
       "    <tr>\n",
       "      <th>fare_amount</th>\n",
       "      <td>4.5</td>\n",
       "      <td>16.9</td>\n",
       "      <td>5.7</td>\n",
       "      <td>7.7</td>\n",
       "      <td>5.3</td>\n",
       "    </tr>\n",
       "    <tr>\n",
       "      <th>pickup_datetime</th>\n",
       "      <td>2009-06-15 17:26:21 UTC</td>\n",
       "      <td>2010-01-05 16:52:16 UTC</td>\n",
       "      <td>2011-08-18 00:35:00 UTC</td>\n",
       "      <td>2012-04-21 04:30:42 UTC</td>\n",
       "      <td>2010-03-09 07:51:00 UTC</td>\n",
       "    </tr>\n",
       "    <tr>\n",
       "      <th>pickup_longitude</th>\n",
       "      <td>-73.8443</td>\n",
       "      <td>-74.016</td>\n",
       "      <td>-73.9827</td>\n",
       "      <td>-73.9871</td>\n",
       "      <td>-73.9681</td>\n",
       "    </tr>\n",
       "    <tr>\n",
       "      <th>pickup_latitude</th>\n",
       "      <td>40.7213</td>\n",
       "      <td>40.7113</td>\n",
       "      <td>40.7613</td>\n",
       "      <td>40.7331</td>\n",
       "      <td>40.768</td>\n",
       "    </tr>\n",
       "    <tr>\n",
       "      <th>dropoff_longitude</th>\n",
       "      <td>-73.8416</td>\n",
       "      <td>-73.9793</td>\n",
       "      <td>-73.9912</td>\n",
       "      <td>-73.9916</td>\n",
       "      <td>-73.9567</td>\n",
       "    </tr>\n",
       "    <tr>\n",
       "      <th>dropoff_latitude</th>\n",
       "      <td>40.7123</td>\n",
       "      <td>40.782</td>\n",
       "      <td>40.7506</td>\n",
       "      <td>40.7581</td>\n",
       "      <td>40.7838</td>\n",
       "    </tr>\n",
       "    <tr>\n",
       "      <th>passenger_count</th>\n",
       "      <td>1</td>\n",
       "      <td>1</td>\n",
       "      <td>2</td>\n",
       "      <td>1</td>\n",
       "      <td>1</td>\n",
       "    </tr>\n",
       "    <tr>\n",
       "      <th>EDT</th>\n",
       "      <td>2009-06-15 21:26:21</td>\n",
       "      <td>2010-01-05 20:52:16</td>\n",
       "      <td>2011-08-18 04:35:00</td>\n",
       "      <td>2012-04-21 08:30:42</td>\n",
       "      <td>2010-03-09 11:51:00</td>\n",
       "    </tr>\n",
       "    <tr>\n",
       "      <th>Hour</th>\n",
       "      <td>21</td>\n",
       "      <td>20</td>\n",
       "      <td>4</td>\n",
       "      <td>8</td>\n",
       "      <td>11</td>\n",
       "    </tr>\n",
       "    <tr>\n",
       "      <th>Weekday</th>\n",
       "      <td>Monday</td>\n",
       "      <td>Tuesday</td>\n",
       "      <td>Thursday</td>\n",
       "      <td>Saturday</td>\n",
       "      <td>Tuesday</td>\n",
       "    </tr>\n",
       "    <tr>\n",
       "      <th>AMorPM</th>\n",
       "      <td>PM</td>\n",
       "      <td>PM</td>\n",
       "      <td>AM</td>\n",
       "      <td>AM</td>\n",
       "      <td>AM</td>\n",
       "    </tr>\n",
       "  </tbody>\n",
       "</table>\n",
       "</div>"
      ],
      "text/plain": [
       "                                             0                            1  \\\n",
       "MasterDataTime     2009-06-15 17:26:21.0000001  2010-01-05 16:52:16.0000002   \n",
       "fare_amount                                4.5                         16.9   \n",
       "pickup_datetime        2009-06-15 17:26:21 UTC      2010-01-05 16:52:16 UTC   \n",
       "pickup_longitude                      -73.8443                      -74.016   \n",
       "pickup_latitude                        40.7213                      40.7113   \n",
       "dropoff_longitude                     -73.8416                     -73.9793   \n",
       "dropoff_latitude                       40.7123                       40.782   \n",
       "passenger_count                              1                            1   \n",
       "EDT                        2009-06-15 21:26:21          2010-01-05 20:52:16   \n",
       "Hour                                        21                           20   \n",
       "Weekday                                 Monday                      Tuesday   \n",
       "AMorPM                                      PM                           PM   \n",
       "\n",
       "                                              2                            3  \\\n",
       "MasterDataTime     2011-08-18 00:35:00.00000049  2012-04-21 04:30:42.0000001   \n",
       "fare_amount                                 5.7                          7.7   \n",
       "pickup_datetime         2011-08-18 00:35:00 UTC      2012-04-21 04:30:42 UTC   \n",
       "pickup_longitude                       -73.9827                     -73.9871   \n",
       "pickup_latitude                         40.7613                      40.7331   \n",
       "dropoff_longitude                      -73.9912                     -73.9916   \n",
       "dropoff_latitude                        40.7506                      40.7581   \n",
       "passenger_count                               2                            1   \n",
       "EDT                         2011-08-18 04:35:00          2012-04-21 08:30:42   \n",
       "Hour                                          4                            8   \n",
       "Weekday                                Thursday                     Saturday   \n",
       "AMorPM                                       AM                           AM   \n",
       "\n",
       "                                               4  \n",
       "MasterDataTime     2010-03-09 07:51:00.000000135  \n",
       "fare_amount                                  5.3  \n",
       "pickup_datetime          2010-03-09 07:51:00 UTC  \n",
       "pickup_longitude                        -73.9681  \n",
       "pickup_latitude                           40.768  \n",
       "dropoff_longitude                       -73.9567  \n",
       "dropoff_latitude                         40.7838  \n",
       "passenger_count                                1  \n",
       "EDT                          2010-03-09 11:51:00  \n",
       "Hour                                          11  \n",
       "Weekday                                  Tuesday  \n",
       "AMorPM                                        AM  "
      ]
     },
     "execution_count": 44,
     "metadata": {},
     "output_type": "execute_result"
    }
   ],
   "source": [
    "df = pd.read_csv(\"data/preprocessed_train.csv\")\n",
    "df.head().T"
   ]
  },
  {
   "cell_type": "code",
   "execution_count": 72,
   "id": "silent-shirt",
   "metadata": {},
   "outputs": [],
   "source": [
    "df = pd.get_dummies(df, columns=[\"Weekday\",\"AMorPM\"],drop_first=True)"
   ]
  },
  {
   "cell_type": "code",
   "execution_count": 82,
   "id": "fancy-elite",
   "metadata": {},
   "outputs": [],
   "source": [
    "new_feats =  ['pickup_longitude',\n",
    "       'pickup_latitude', 'dropoff_longitude', 'dropoff_latitude',\n",
    "       'passenger_count', 'Hour', 'Weekday_Monday', 'Weekday_Saturday',\n",
    "       'Weekday_Sunday', 'Weekday_Thursday', 'Weekday_Tuesday',\n",
    "       'Weekday_Wednesday', 'AMorPM_PM']"
   ]
  },
  {
   "cell_type": "code",
   "execution_count": 83,
   "id": "waiting-welsh",
   "metadata": {},
   "outputs": [],
   "source": [
    "df = df.dropna()\n",
    "X = df[new_feats].copy().values\n",
    "y = df[target].copy().values\n",
    "\n",
    "X_train, X_test, y_train, y_test = train_test_split(X, y, random_state=42)"
   ]
  },
  {
   "cell_type": "code",
   "execution_count": 84,
   "id": "median-tennessee",
   "metadata": {},
   "outputs": [
    {
     "data": {
      "text/plain": [
       "0.0009487657819273744"
      ]
     },
     "execution_count": 84,
     "metadata": {},
     "output_type": "execute_result"
    }
   ],
   "source": [
    "model_baseline = LinearRegression().fit(X_train, y_train)\n",
    "\n",
    "# r2 score\n",
    "model_baseline.score(X_train, y_train)"
   ]
  },
  {
   "cell_type": "code",
   "execution_count": 85,
   "id": "mechanical-intranet",
   "metadata": {},
   "outputs": [],
   "source": [
    "preds_baseline = model_baseline.predict(X_test)"
   ]
  },
  {
   "cell_type": "code",
   "execution_count": 86,
   "id": "fallen-admission",
   "metadata": {},
   "outputs": [
    {
     "data": {
      "text/plain": [
       "9.8265765200406"
      ]
     },
     "execution_count": 86,
     "metadata": {},
     "output_type": "execute_result"
    }
   ],
   "source": [
    "np.sqrt(mean_squared_error(y_test, preds_baseline))"
   ]
  },
  {
   "cell_type": "markdown",
   "id": "inappropriate-nicaragua",
   "metadata": {},
   "source": [
    "All the scores so far are terrible. Linear Regression is not meant for this data"
   ]
  }
 ],
 "metadata": {
  "kernelspec": {
   "display_name": "Python 3",
   "language": "python",
   "name": "python3"
  },
  "language_info": {
   "codemirror_mode": {
    "name": "ipython",
    "version": 3
   },
   "file_extension": ".py",
   "mimetype": "text/x-python",
   "name": "python",
   "nbconvert_exporter": "python",
   "pygments_lexer": "ipython3",
   "version": "3.7.3"
  }
 },
 "nbformat": 4,
 "nbformat_minor": 5
}
